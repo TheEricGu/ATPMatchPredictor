{
 "cells": [
  {
   "cell_type": "markdown",
   "metadata": {},
   "source": [
    "# ATP Match Predictor (Final Project for INFO 1998: Intro to Machine Learning)"
   ]
  },
  {
   "cell_type": "markdown",
   "metadata": {},
   "source": [
    "Combining two passions of mine, tennis and data science, this project aims to predict tennis match results based off of commonly accessible statistics. I will use a number of statistical methods to quantitatively predict the winner of a tennis match. This will include data visualizations to aid in the understanding and interpretation of the data, and to impove the performance of the models.\n",
    "\n",
    "The data is from the 2016 season of the ATP World Tour and can be found here: https://www.kaggle.com/gmadevs/atp-matches-dataset#atp_matches_2016.csv"
   ]
  },
  {
   "cell_type": "markdown",
   "metadata": {},
   "source": [
    "# Data Preprocessing and Manipulation"
   ]
  },
  {
   "cell_type": "code",
   "execution_count": 1,
   "metadata": {},
   "outputs": [
    {
     "data": {
      "text/html": [
       "<div>\n",
       "<style scoped>\n",
       "    .dataframe tbody tr th:only-of-type {\n",
       "        vertical-align: middle;\n",
       "    }\n",
       "\n",
       "    .dataframe tbody tr th {\n",
       "        vertical-align: top;\n",
       "    }\n",
       "\n",
       "    .dataframe thead th {\n",
       "        text-align: right;\n",
       "    }\n",
       "</style>\n",
       "<table border=\"1\" class=\"dataframe\">\n",
       "  <thead>\n",
       "    <tr style=\"text-align: right;\">\n",
       "      <th></th>\n",
       "      <th>tourney_name</th>\n",
       "      <th>surface</th>\n",
       "      <th>draw_size</th>\n",
       "      <th>tourney_date</th>\n",
       "      <th>seed</th>\n",
       "      <th>name</th>\n",
       "      <th>hand</th>\n",
       "      <th>ht</th>\n",
       "      <th>age</th>\n",
       "      <th>rank</th>\n",
       "      <th>...</th>\n",
       "      <th>ace</th>\n",
       "      <th>df</th>\n",
       "      <th>svpt</th>\n",
       "      <th>1stIn</th>\n",
       "      <th>1stWon</th>\n",
       "      <th>2ndWon</th>\n",
       "      <th>SvGms</th>\n",
       "      <th>bpSaved</th>\n",
       "      <th>bpFaced</th>\n",
       "      <th>result</th>\n",
       "    </tr>\n",
       "  </thead>\n",
       "  <tbody>\n",
       "    <tr>\n",
       "      <th>0</th>\n",
       "      <td>Brisbane</td>\n",
       "      <td>Hard</td>\n",
       "      <td>32.0</td>\n",
       "      <td>20160104.0</td>\n",
       "      <td>4.0</td>\n",
       "      <td>Milos Raonic</td>\n",
       "      <td>R</td>\n",
       "      <td>196.0</td>\n",
       "      <td>25.021218</td>\n",
       "      <td>14.0</td>\n",
       "      <td>...</td>\n",
       "      <td>6.0</td>\n",
       "      <td>6.0</td>\n",
       "      <td>60.0</td>\n",
       "      <td>34.0</td>\n",
       "      <td>28.0</td>\n",
       "      <td>14.0</td>\n",
       "      <td>10.0</td>\n",
       "      <td>1.0</td>\n",
       "      <td>1.0</td>\n",
       "      <td>W</td>\n",
       "    </tr>\n",
       "    <tr>\n",
       "      <th>1</th>\n",
       "      <td>Brisbane</td>\n",
       "      <td>Hard</td>\n",
       "      <td>32.0</td>\n",
       "      <td>20160104.0</td>\n",
       "      <td>1.0</td>\n",
       "      <td>Roger Federer</td>\n",
       "      <td>R</td>\n",
       "      <td>185.0</td>\n",
       "      <td>34.406571</td>\n",
       "      <td>3.0</td>\n",
       "      <td>...</td>\n",
       "      <td>6.0</td>\n",
       "      <td>0.0</td>\n",
       "      <td>49.0</td>\n",
       "      <td>27.0</td>\n",
       "      <td>23.0</td>\n",
       "      <td>12.0</td>\n",
       "      <td>9.0</td>\n",
       "      <td>0.0</td>\n",
       "      <td>1.0</td>\n",
       "      <td>W</td>\n",
       "    </tr>\n",
       "    <tr>\n",
       "      <th>2</th>\n",
       "      <td>Brisbane</td>\n",
       "      <td>Hard</td>\n",
       "      <td>32.0</td>\n",
       "      <td>20160104.0</td>\n",
       "      <td>4.0</td>\n",
       "      <td>Milos Raonic</td>\n",
       "      <td>R</td>\n",
       "      <td>196.0</td>\n",
       "      <td>25.021218</td>\n",
       "      <td>14.0</td>\n",
       "      <td>...</td>\n",
       "      <td>13.0</td>\n",
       "      <td>3.0</td>\n",
       "      <td>79.0</td>\n",
       "      <td>49.0</td>\n",
       "      <td>40.0</td>\n",
       "      <td>19.0</td>\n",
       "      <td>12.0</td>\n",
       "      <td>4.0</td>\n",
       "      <td>4.0</td>\n",
       "      <td>W</td>\n",
       "    </tr>\n",
       "    <tr>\n",
       "      <th>3</th>\n",
       "      <td>Brisbane</td>\n",
       "      <td>Hard</td>\n",
       "      <td>32.0</td>\n",
       "      <td>20160104.0</td>\n",
       "      <td>1.0</td>\n",
       "      <td>Roger Federer</td>\n",
       "      <td>R</td>\n",
       "      <td>185.0</td>\n",
       "      <td>34.406571</td>\n",
       "      <td>3.0</td>\n",
       "      <td>...</td>\n",
       "      <td>7.0</td>\n",
       "      <td>1.0</td>\n",
       "      <td>83.0</td>\n",
       "      <td>52.0</td>\n",
       "      <td>45.0</td>\n",
       "      <td>19.0</td>\n",
       "      <td>16.0</td>\n",
       "      <td>0.0</td>\n",
       "      <td>1.0</td>\n",
       "      <td>W</td>\n",
       "    </tr>\n",
       "    <tr>\n",
       "      <th>4</th>\n",
       "      <td>Brisbane</td>\n",
       "      <td>Hard</td>\n",
       "      <td>32.0</td>\n",
       "      <td>20160104.0</td>\n",
       "      <td>8.0</td>\n",
       "      <td>Dominic Thiem</td>\n",
       "      <td>R</td>\n",
       "      <td>NaN</td>\n",
       "      <td>22.335387</td>\n",
       "      <td>20.0</td>\n",
       "      <td>...</td>\n",
       "      <td>6.0</td>\n",
       "      <td>0.0</td>\n",
       "      <td>84.0</td>\n",
       "      <td>55.0</td>\n",
       "      <td>41.0</td>\n",
       "      <td>20.0</td>\n",
       "      <td>15.0</td>\n",
       "      <td>0.0</td>\n",
       "      <td>2.0</td>\n",
       "      <td>W</td>\n",
       "    </tr>\n",
       "  </tbody>\n",
       "</table>\n",
       "<p>5 rows × 25 columns</p>\n",
       "</div>"
      ],
      "text/plain": [
       "  tourney_name surface  draw_size  tourney_date  seed           name hand  \\\n",
       "0     Brisbane    Hard       32.0    20160104.0   4.0   Milos Raonic    R   \n",
       "1     Brisbane    Hard       32.0    20160104.0   1.0  Roger Federer    R   \n",
       "2     Brisbane    Hard       32.0    20160104.0   4.0   Milos Raonic    R   \n",
       "3     Brisbane    Hard       32.0    20160104.0   1.0  Roger Federer    R   \n",
       "4     Brisbane    Hard       32.0    20160104.0   8.0  Dominic Thiem    R   \n",
       "\n",
       "      ht        age  rank   ...     ace   df  svpt 1stIn  1stWon  2ndWon  \\\n",
       "0  196.0  25.021218  14.0   ...     6.0  6.0  60.0  34.0    28.0    14.0   \n",
       "1  185.0  34.406571   3.0   ...     6.0  0.0  49.0  27.0    23.0    12.0   \n",
       "2  196.0  25.021218  14.0   ...    13.0  3.0  79.0  49.0    40.0    19.0   \n",
       "3  185.0  34.406571   3.0   ...     7.0  1.0  83.0  52.0    45.0    19.0   \n",
       "4    NaN  22.335387  20.0   ...     6.0  0.0  84.0  55.0    41.0    20.0   \n",
       "\n",
       "   SvGms  bpSaved  bpFaced  result  \n",
       "0   10.0      1.0      1.0       W  \n",
       "1    9.0      0.0      1.0       W  \n",
       "2   12.0      4.0      4.0       W  \n",
       "3   16.0      0.0      1.0       W  \n",
       "4   15.0      0.0      2.0       W  \n",
       "\n",
       "[5 rows x 25 columns]"
      ]
     },
     "execution_count": 1,
     "metadata": {},
     "output_type": "execute_result"
    }
   ],
   "source": [
    "import pandas as pd\n",
    "import numpy as np\n",
    "import matplotlib.pyplot as plt\n",
    "import seaborn as sns\n",
    "import math\n",
    "from sklearn.metrics import accuracy_score\n",
    "from sklearn.model_selection import train_test_split\n",
    "from sklearn.linear_model import LogisticRegression\n",
    "from sklearn.tree import DecisionTreeClassifier\n",
    "from sklearn.neighbors import KNeighborsClassifier\n",
    "from sklearn import tree\n",
    "from sklearn import datasets\n",
    "%matplotlib inline\n",
    "\n",
    "#Import dataset\n",
    "df_raw=pd.read_csv('2016_atp_matches.csv') \n",
    "df_raw.head()"
   ]
  },
  {
   "cell_type": "markdown",
   "metadata": {},
   "source": [
    "The first few rows of the raw data can be seen above. However, before beginning analysis, we must clean the raw data to suit our needs. Many columns such as the tournament name and player name are uneccessary for analysis, and should be removed. Additionally, variables that would be in common between two players such as the court surface, match date, and match length are also removed. Below, the cleaned dataset is shown."
   ]
  },
  {
   "cell_type": "code",
   "execution_count": 2,
   "metadata": {},
   "outputs": [
    {
     "data": {
      "text/html": [
       "<div>\n",
       "<style scoped>\n",
       "    .dataframe tbody tr th:only-of-type {\n",
       "        vertical-align: middle;\n",
       "    }\n",
       "\n",
       "    .dataframe tbody tr th {\n",
       "        vertical-align: top;\n",
       "    }\n",
       "\n",
       "    .dataframe thead th {\n",
       "        text-align: right;\n",
       "    }\n",
       "</style>\n",
       "<table border=\"1\" class=\"dataframe\">\n",
       "  <thead>\n",
       "    <tr style=\"text-align: right;\">\n",
       "      <th></th>\n",
       "      <th>seed</th>\n",
       "      <th>ht</th>\n",
       "      <th>age</th>\n",
       "      <th>rank</th>\n",
       "      <th>rank_points</th>\n",
       "      <th>ace</th>\n",
       "      <th>df</th>\n",
       "      <th>1stIn</th>\n",
       "      <th>1stWon</th>\n",
       "      <th>2ndWon</th>\n",
       "      <th>bpSaved</th>\n",
       "      <th>bpFaced</th>\n",
       "      <th>result</th>\n",
       "    </tr>\n",
       "  </thead>\n",
       "  <tbody>\n",
       "    <tr>\n",
       "      <th>0</th>\n",
       "      <td>4.0</td>\n",
       "      <td>196.0</td>\n",
       "      <td>25.021218</td>\n",
       "      <td>14.0</td>\n",
       "      <td>2170.0</td>\n",
       "      <td>6.0</td>\n",
       "      <td>6.0</td>\n",
       "      <td>34.0</td>\n",
       "      <td>28.0</td>\n",
       "      <td>14.0</td>\n",
       "      <td>1.0</td>\n",
       "      <td>1.0</td>\n",
       "      <td>W</td>\n",
       "    </tr>\n",
       "    <tr>\n",
       "      <th>1</th>\n",
       "      <td>1.0</td>\n",
       "      <td>185.0</td>\n",
       "      <td>34.406571</td>\n",
       "      <td>3.0</td>\n",
       "      <td>8265.0</td>\n",
       "      <td>6.0</td>\n",
       "      <td>0.0</td>\n",
       "      <td>27.0</td>\n",
       "      <td>23.0</td>\n",
       "      <td>12.0</td>\n",
       "      <td>0.0</td>\n",
       "      <td>1.0</td>\n",
       "      <td>W</td>\n",
       "    </tr>\n",
       "    <tr>\n",
       "      <th>2</th>\n",
       "      <td>4.0</td>\n",
       "      <td>196.0</td>\n",
       "      <td>25.021218</td>\n",
       "      <td>14.0</td>\n",
       "      <td>2170.0</td>\n",
       "      <td>13.0</td>\n",
       "      <td>3.0</td>\n",
       "      <td>49.0</td>\n",
       "      <td>40.0</td>\n",
       "      <td>19.0</td>\n",
       "      <td>4.0</td>\n",
       "      <td>4.0</td>\n",
       "      <td>W</td>\n",
       "    </tr>\n",
       "    <tr>\n",
       "      <th>3</th>\n",
       "      <td>1.0</td>\n",
       "      <td>185.0</td>\n",
       "      <td>34.406571</td>\n",
       "      <td>3.0</td>\n",
       "      <td>8265.0</td>\n",
       "      <td>7.0</td>\n",
       "      <td>1.0</td>\n",
       "      <td>52.0</td>\n",
       "      <td>45.0</td>\n",
       "      <td>19.0</td>\n",
       "      <td>0.0</td>\n",
       "      <td>1.0</td>\n",
       "      <td>W</td>\n",
       "    </tr>\n",
       "    <tr>\n",
       "      <th>4</th>\n",
       "      <td>8.0</td>\n",
       "      <td>NaN</td>\n",
       "      <td>22.335387</td>\n",
       "      <td>20.0</td>\n",
       "      <td>1600.0</td>\n",
       "      <td>6.0</td>\n",
       "      <td>0.0</td>\n",
       "      <td>55.0</td>\n",
       "      <td>41.0</td>\n",
       "      <td>20.0</td>\n",
       "      <td>0.0</td>\n",
       "      <td>2.0</td>\n",
       "      <td>W</td>\n",
       "    </tr>\n",
       "  </tbody>\n",
       "</table>\n",
       "</div>"
      ],
      "text/plain": [
       "   seed     ht        age  rank  rank_points   ace   df  1stIn  1stWon  \\\n",
       "0   4.0  196.0  25.021218  14.0       2170.0   6.0  6.0   34.0    28.0   \n",
       "1   1.0  185.0  34.406571   3.0       8265.0   6.0  0.0   27.0    23.0   \n",
       "2   4.0  196.0  25.021218  14.0       2170.0  13.0  3.0   49.0    40.0   \n",
       "3   1.0  185.0  34.406571   3.0       8265.0   7.0  1.0   52.0    45.0   \n",
       "4   8.0    NaN  22.335387  20.0       1600.0   6.0  0.0   55.0    41.0   \n",
       "\n",
       "   2ndWon  bpSaved  bpFaced result  \n",
       "0    14.0      1.0      1.0      W  \n",
       "1    12.0      0.0      1.0      W  \n",
       "2    19.0      4.0      4.0      W  \n",
       "3    19.0      0.0      1.0      W  \n",
       "4    20.0      0.0      2.0      W  "
      ]
     },
     "execution_count": 2,
     "metadata": {},
     "output_type": "execute_result"
    }
   ],
   "source": [
    "#Removing uneccessary columns\n",
    "df=df_raw.drop(columns=['draw_size', 'hand', 'svpt', 'tourney_name','name','score','surface','round','SvGms', 'tourney_date','minutes','best_of'])\n",
    "df.head()"
   ]
  },
  {
   "cell_type": "markdown",
   "metadata": {},
   "source": [
    "# Problem and Hypothesis"
   ]
  },
  {
   "cell_type": "markdown",
   "metadata": {},
   "source": [
    "The main goal of this project was to develop potential machine learning models for predicting the winner of a tennis match.\n",
    "\n",
    "I hypothesize that using the differences between the winner and loser with respect to the values in the above dataframe can be used to produce an accurate model (~90% accuracy)."
   ]
  },
  {
   "cell_type": "markdown",
   "metadata": {},
   "source": [
    "# Visualizations (Density Plot and 2D Scatter Plot)"
   ]
  },
  {
   "cell_type": "markdown",
   "metadata": {},
   "source": [
    "We began by examining two parameters that I believe will be critical for the planned models. This allows us to gain some insight into the parameters and view certain statistical characteristics of the distributions."
   ]
  },
  {
   "cell_type": "markdown",
   "metadata": {},
   "source": [
    "### Winner and Loser Rankings"
   ]
  },
  {
   "cell_type": "code",
   "execution_count": 3,
   "metadata": {},
   "outputs": [
    {
     "data": {
      "image/png": "[encoded data removed]",
      "text/plain": [
       "<Figure size 720x360 with 1 Axes>"
      ]
     },
     "metadata": {},
     "output_type": "display_data"
    },
    {
     "data": {
      "image/png": "[encoded data removed]",
      "text/plain": [
       "<Figure size 720x360 with 1 Axes>"
      ]
     },
     "metadata": {},
     "output_type": "display_data"
    }
   ],
   "source": [
    "#Drop rows with NaN rankings \n",
    "dfDensity=df.dropna(subset=['rank'])\n",
    "\n",
    "#Winner Rankings\n",
    "plt.figure(figsize=(10,5))\n",
    "dfW=dfDensity[dfDensity.result!='L']\n",
    "density = sns.kdeplot(dfW['rank'],shade=True, legend=False, bw=.1, color='g')\n",
    "plt.title ('Winner Rankings')\n",
    "plt.xlabel('Ranking')\n",
    "plt.ylabel('Density')\n",
    "plt.xlim(0, 400)\n",
    "plt.show()\n",
    "\n",
    "#Loser Rankings\n",
    "plt.figure(figsize=(10,5))\n",
    "dfL=dfDensity[dfDensity.result!='W']\n",
    "density = sns.kdeplot(dfL['rank'],shade=True, legend=False, bw=.1, color='r')\n",
    "plt.title ('Loser Rankings')\n",
    "plt.xlabel('Ranking')\n",
    "plt.ylabel('Density')\n",
    "plt.xlim(0, 400)\n",
    "plt.show()"
   ]
  },
  {
   "cell_type": "markdown",
   "metadata": {},
   "source": [
    "These density plots help us visualize the distribution of rankings for the winners and losers of each match. There does seem to be a slight difference in the two plots, with the distribution of loser rankings very slightly lower than the distribution of winner rankings.\n",
    "\n",
    "Interestingly, this distribution also shows that the top players do not play as many matches, presumably because they go deeper in tournaments and earn more prize money. Mid ranked players play the most matches. And lower ranked players are not accounted for because they often play on the Challenger Tour (one tier down from the top-tier ATP World Tour)."
   ]
  },
  {
   "cell_type": "markdown",
   "metadata": {},
   "source": [
    "### Winner and Loser Break Point Performance"
   ]
  },
  {
   "cell_type": "code",
   "execution_count": 4,
   "metadata": {},
   "outputs": [
    {
     "data": {
      "image/png": "[encoded data removed]",
      "text/plain": [
       "<Figure size 720x360 with 1 Axes>"
      ]
     },
     "metadata": {},
     "output_type": "display_data"
    },
    {
     "data": {
      "image/png": "[encoded data removed]",
      "text/plain": [
       "<Figure size 720x360 with 1 Axes>"
      ]
     },
     "metadata": {},
     "output_type": "display_data"
    },
    {
     "data": {
      "image/png": "[encoded data removed]",
      "text/plain": [
       "<Figure size 720x360 with 1 Axes>"
      ]
     },
     "metadata": {},
     "output_type": "display_data"
    }
   ],
   "source": [
    "#Winners plot\n",
    "plt.figure(figsize=(10,5))\n",
    "plt.scatter(dfW['bpFaced'],dfW['bpSaved'],c='#440154', alpha = .1) \n",
    "plt.title('Break Point Performance (Winners)')\n",
    "plt.xlabel('Break Points Faced')\n",
    "plt.ylabel('Break Points Saved')\n",
    "plt.xlim(0,30)\n",
    "plt.ylim(0,30)\n",
    "plt.show()\n",
    "\n",
    "#Losers plot\n",
    "plt.figure(figsize=(10,5))\n",
    "plt.scatter(dfL['bpFaced'],dfL['bpSaved'],c='#FCE625', alpha = .1) \n",
    "plt.title('Break Point Performance (Losers)')\n",
    "plt.xlabel('Break Points Faced')\n",
    "plt.ylabel('Break Points Saved')\n",
    "plt.xlim(0,30)\n",
    "plt.ylim(0,30)\n",
    "plt.show()\n",
    "\n",
    "#Combined plot\n",
    "plt.figure(figsize=(10,5))\n",
    "df['bin_result'] = pd.factorize(df.result)[0]\n",
    "plt.scatter(df['bpFaced'],df['bpSaved'],c=df['bin_result'].values.ravel(), alpha = .075) \n",
    "plt.title('Break Point Performance (Combined)')\n",
    "plt.xlabel('Break Points Faced')\n",
    "plt.ylabel('Break Points Saved')\n",
    "plt.xlim(0,30)\n",
    "plt.ylim(0,30)\n",
    "plt.show()"
   ]
  },
  {
   "cell_type": "markdown",
   "metadata": {},
   "source": [
    "In the sport of tennis, winning a break point and \"breaking\" your opponent is a common indicator for match success. A player is usually expected to hold their serve because serving is an advantage. Thus, if a player is broken, then they are likely to lose the match.\n",
    "\n",
    "From these scatterplots, we can see that winners face less break points and most importantly, save more of them. This follows my hypothesis and the conventional wisdom of tennis players."
   ]
  },
  {
   "cell_type": "markdown",
   "metadata": {},
   "source": [
    "# Machine Learning Models"
   ]
  },
  {
   "cell_type": "markdown",
   "metadata": {},
   "source": [
    "Now we must decide which predictors to use for our models. The critical point here is that we use the _difference_ between corresponding statistics between the winner and loser. Thus, for our models, we can use seed difference, height difference, age difference, rank difference, rank points difference, ace difference, double fault difference, 1st serve percentage difference, 1st serve points won difference, 2nd serve points won difference, break points faced difference, and break points saved difference.\n",
    "\n",
    "I then constructed a new dataframe with these differences."
   ]
  },
  {
   "cell_type": "code",
   "execution_count": 5,
   "metadata": {},
   "outputs": [
    {
     "data": {
      "text/html": [
       "<div>\n",
       "<style scoped>\n",
       "    .dataframe tbody tr th:only-of-type {\n",
       "        vertical-align: middle;\n",
       "    }\n",
       "\n",
       "    .dataframe tbody tr th {\n",
       "        vertical-align: top;\n",
       "    }\n",
       "\n",
       "    .dataframe thead th {\n",
       "        text-align: right;\n",
       "    }\n",
       "</style>\n",
       "<table border=\"1\" class=\"dataframe\">\n",
       "  <thead>\n",
       "    <tr style=\"text-align: right;\">\n",
       "      <th></th>\n",
       "      <th>seed_diff</th>\n",
       "      <th>ht_diff</th>\n",
       "      <th>age_diff</th>\n",
       "      <th>rank_diff</th>\n",
       "      <th>rank_points_diff</th>\n",
       "      <th>ace_diff</th>\n",
       "      <th>df_diff</th>\n",
       "      <th>1stIn_diff</th>\n",
       "      <th>1stWon_diff</th>\n",
       "      <th>2ndWon_diff</th>\n",
       "      <th>bpSaved_diff</th>\n",
       "      <th>bpFaced_diff</th>\n",
       "      <th>result</th>\n",
       "    </tr>\n",
       "  </thead>\n",
       "  <tbody>\n",
       "    <tr>\n",
       "      <th>0</th>\n",
       "      <td>3.0</td>\n",
       "      <td>11.0</td>\n",
       "      <td>-9.385352</td>\n",
       "      <td>11.0</td>\n",
       "      <td>-6095.0</td>\n",
       "      <td>-1.0</td>\n",
       "      <td>3.0</td>\n",
       "      <td>0.0</td>\n",
       "      <td>3.0</td>\n",
       "      <td>0.0</td>\n",
       "      <td>-2.0</td>\n",
       "      <td>-4.0</td>\n",
       "      <td>W</td>\n",
       "    </tr>\n",
       "    <tr>\n",
       "      <th>2</th>\n",
       "      <td>-3.0</td>\n",
       "      <td>3.0</td>\n",
       "      <td>1.817933</td>\n",
       "      <td>-4.0</td>\n",
       "      <td>495.0</td>\n",
       "      <td>3.0</td>\n",
       "      <td>0.0</td>\n",
       "      <td>-5.0</td>\n",
       "      <td>-1.0</td>\n",
       "      <td>3.0</td>\n",
       "      <td>2.0</td>\n",
       "      <td>2.0</td>\n",
       "      <td>W</td>\n",
       "    </tr>\n",
       "    <tr>\n",
       "      <th>6</th>\n",
       "      <td>5.0</td>\n",
       "      <td>15.0</td>\n",
       "      <td>-2.811773</td>\n",
       "      <td>10.0</td>\n",
       "      <td>-2560.0</td>\n",
       "      <td>9.0</td>\n",
       "      <td>-2.0</td>\n",
       "      <td>10.0</td>\n",
       "      <td>10.0</td>\n",
       "      <td>-2.0</td>\n",
       "      <td>1.0</td>\n",
       "      <td>1.0</td>\n",
       "      <td>W</td>\n",
       "    </tr>\n",
       "    <tr>\n",
       "      <th>28</th>\n",
       "      <td>-2.0</td>\n",
       "      <td>-13.0</td>\n",
       "      <td>4.112252</td>\n",
       "      <td>-15.0</td>\n",
       "      <td>5232.0</td>\n",
       "      <td>4.0</td>\n",
       "      <td>-2.0</td>\n",
       "      <td>8.0</td>\n",
       "      <td>2.0</td>\n",
       "      <td>7.0</td>\n",
       "      <td>-1.0</td>\n",
       "      <td>-3.0</td>\n",
       "      <td>W</td>\n",
       "    </tr>\n",
       "    <tr>\n",
       "      <th>30</th>\n",
       "      <td>-4.0</td>\n",
       "      <td>-5.0</td>\n",
       "      <td>-1.815195</td>\n",
       "      <td>-23.0</td>\n",
       "      <td>5435.0</td>\n",
       "      <td>9.0</td>\n",
       "      <td>-2.0</td>\n",
       "      <td>-6.0</td>\n",
       "      <td>5.0</td>\n",
       "      <td>-8.0</td>\n",
       "      <td>-6.0</td>\n",
       "      <td>-8.0</td>\n",
       "      <td>W</td>\n",
       "    </tr>\n",
       "  </tbody>\n",
       "</table>\n",
       "</div>"
      ],
      "text/plain": [
       "    seed_diff  ht_diff  age_diff  rank_diff  rank_points_diff  ace_diff  \\\n",
       "0         3.0     11.0 -9.385352       11.0           -6095.0      -1.0   \n",
       "2        -3.0      3.0  1.817933       -4.0             495.0       3.0   \n",
       "6         5.0     15.0 -2.811773       10.0           -2560.0       9.0   \n",
       "28       -2.0    -13.0  4.112252      -15.0            5232.0       4.0   \n",
       "30       -4.0     -5.0 -1.815195      -23.0            5435.0       9.0   \n",
       "\n",
       "    df_diff  1stIn_diff  1stWon_diff  2ndWon_diff  bpSaved_diff  bpFaced_diff  \\\n",
       "0       3.0         0.0          3.0          0.0          -2.0          -4.0   \n",
       "2       0.0        -5.0         -1.0          3.0           2.0           2.0   \n",
       "6      -2.0        10.0         10.0         -2.0           1.0           1.0   \n",
       "28     -2.0         8.0          2.0          7.0          -1.0          -3.0   \n",
       "30     -2.0        -6.0          5.0         -8.0          -6.0          -8.0   \n",
       "\n",
       "   result  \n",
       "0       W  \n",
       "2       W  \n",
       "6       W  \n",
       "28      W  \n",
       "30      W  "
      ]
     },
     "execution_count": 5,
     "metadata": {},
     "output_type": "execute_result"
    }
   ],
   "source": [
    "#New dataframe\n",
    "new_array = []\n",
    "for row in range (3004):\n",
    "    arr = []\n",
    "    for col in range (12):\n",
    "        arr.append(df.iat[row, col]-df.iat[row+3004, col])\n",
    "    new_array.append(arr)\n",
    "for x in range (len(new_array)):\n",
    "    arr = []\n",
    "    for y in range (len(new_array[x])):\n",
    "        arr.append(-1 * new_array[x][y])\n",
    "    new_array.append(arr)\n",
    "df_new = pd.DataFrame(new_array, columns = ['seed_diff', 'ht_diff', 'age_diff',\n",
    "                                            'rank_diff', 'rank_points_diff', 'ace_diff', \n",
    "                                            'df_diff', '1stIn_diff', '1stWon_diff', '2ndWon_diff', \n",
    "                                            'bpSaved_diff', 'bpFaced_diff'])\n",
    "\n",
    "#Drop rows that have NaN (this causes an error when attempting to fit a model)\n",
    "df_new['result'] = df['result']\n",
    "df_new = df_new.dropna()\n",
    "X = df_new.drop('result', axis=1)\n",
    "Y = df_new['result']\n",
    "x_train, x_test, y_train, y_test = train_test_split(X, Y, test_size= 0.2)\n",
    "df_new.head()"
   ]
  },
  {
   "cell_type": "markdown",
   "metadata": {},
   "source": [
    "Now that we have constructed a new dataframe (above) with the differences between winner and loser, we can start implementing machine learning models to conduct predictive analysis. We will construct three separate classification models for the new dataset. They are the Logistic Regression Model, Decision Tree Classifier, and k-Nearest Neighbors Algorithm."
   ]
  },
  {
   "cell_type": "markdown",
   "metadata": {},
   "source": [
    "### Logistic Regression Model"
   ]
  },
  {
   "cell_type": "markdown",
   "metadata": {},
   "source": [
    "A logistic regression model is a generalized linear model and it uses a logisitic function to model a binary dependent variable. Since the final output is binary, this means this model should be applicable to our dataset since the final result is either Win or Lose. The logistic regression model allows us to interpret the prediction as a probability that something is true."
   ]
  },
  {
   "cell_type": "code",
   "execution_count": 6,
   "metadata": {},
   "outputs": [
    {
     "name": "stdout",
     "output_type": "stream",
     "text": [
      "Logistic Regression Accuracy:  0.9387755102040817\n"
     ]
    },
    {
     "data": {
      "text/html": [
       "<div>\n",
       "<style scoped>\n",
       "    .dataframe tbody tr th:only-of-type {\n",
       "        vertical-align: middle;\n",
       "    }\n",
       "\n",
       "    .dataframe tbody tr th {\n",
       "        vertical-align: top;\n",
       "    }\n",
       "\n",
       "    .dataframe thead th {\n",
       "        text-align: right;\n",
       "    }\n",
       "</style>\n",
       "<table border=\"1\" class=\"dataframe\">\n",
       "  <thead>\n",
       "    <tr style=\"text-align: right;\">\n",
       "      <th></th>\n",
       "      <th>Real Result</th>\n",
       "      <th>Predicted Result</th>\n",
       "    </tr>\n",
       "  </thead>\n",
       "  <tbody>\n",
       "    <tr>\n",
       "      <th>0</th>\n",
       "      <td>W</td>\n",
       "      <td>W</td>\n",
       "    </tr>\n",
       "    <tr>\n",
       "      <th>1</th>\n",
       "      <td>L</td>\n",
       "      <td>L</td>\n",
       "    </tr>\n",
       "    <tr>\n",
       "      <th>2</th>\n",
       "      <td>W</td>\n",
       "      <td>W</td>\n",
       "    </tr>\n",
       "    <tr>\n",
       "      <th>3</th>\n",
       "      <td>L</td>\n",
       "      <td>L</td>\n",
       "    </tr>\n",
       "    <tr>\n",
       "      <th>4</th>\n",
       "      <td>L</td>\n",
       "      <td>L</td>\n",
       "    </tr>\n",
       "    <tr>\n",
       "      <th>5</th>\n",
       "      <td>L</td>\n",
       "      <td>L</td>\n",
       "    </tr>\n",
       "    <tr>\n",
       "      <th>6</th>\n",
       "      <td>L</td>\n",
       "      <td>L</td>\n",
       "    </tr>\n",
       "    <tr>\n",
       "      <th>7</th>\n",
       "      <td>W</td>\n",
       "      <td>W</td>\n",
       "    </tr>\n",
       "    <tr>\n",
       "      <th>8</th>\n",
       "      <td>L</td>\n",
       "      <td>L</td>\n",
       "    </tr>\n",
       "    <tr>\n",
       "      <th>9</th>\n",
       "      <td>L</td>\n",
       "      <td>L</td>\n",
       "    </tr>\n",
       "  </tbody>\n",
       "</table>\n",
       "</div>"
      ],
      "text/plain": [
       "  Real Result Predicted Result\n",
       "0           W                W\n",
       "1           L                L\n",
       "2           W                W\n",
       "3           L                L\n",
       "4           L                L\n",
       "5           L                L\n",
       "6           L                L\n",
       "7           W                W\n",
       "8           L                L\n",
       "9           L                L"
      ]
     },
     "execution_count": 6,
     "metadata": {},
     "output_type": "execute_result"
    }
   ],
   "source": [
    "df_new['result'] = df_new['result'] == 'W'\n",
    "logRegModel = LogisticRegression()\n",
    "logRegModel.fit(x_train, y_train)\n",
    "prediction_train = logRegModel.predict(x_train)\n",
    "prediction_test = logRegModel.predict(x_test)\n",
    "print(\"Logistic Regression Accuracy: \", accuracy_score(y_test, prediction_test))\n",
    "pd.DataFrame({\"Real Result\":y_test, \"Predicted Result\":prediction_test}).reset_index(drop=True).head(10)"
   ]
  },
  {
   "cell_type": "markdown",
   "metadata": {},
   "source": [
    "### Decision Tree Classifier"
   ]
  },
  {
   "cell_type": "markdown",
   "metadata": {},
   "source": [
    "A decision tree algorithm can be used to perform classification as well. In particular, it can be advantageous because it does not assume a linear model. The model uses the data to construct a flowchart with a series of nodes and edges. The decision tree then breaks down the data by making a series of decisions and classifying at each point.  "
   ]
  },
  {
   "cell_type": "code",
   "execution_count": 7,
   "metadata": {},
   "outputs": [
    {
     "name": "stdout",
     "output_type": "stream",
     "text": [
      "Decision Tree Accuracy:  0.8367346938775511\n"
     ]
    },
    {
     "data": {
      "text/html": [
       "<div>\n",
       "<style scoped>\n",
       "    .dataframe tbody tr th:only-of-type {\n",
       "        vertical-align: middle;\n",
       "    }\n",
       "\n",
       "    .dataframe tbody tr th {\n",
       "        vertical-align: top;\n",
       "    }\n",
       "\n",
       "    .dataframe thead th {\n",
       "        text-align: right;\n",
       "    }\n",
       "</style>\n",
       "<table border=\"1\" class=\"dataframe\">\n",
       "  <thead>\n",
       "    <tr style=\"text-align: right;\">\n",
       "      <th></th>\n",
       "      <th>Real Result</th>\n",
       "      <th>Predicted Result</th>\n",
       "    </tr>\n",
       "  </thead>\n",
       "  <tbody>\n",
       "    <tr>\n",
       "      <th>0</th>\n",
       "      <td>W</td>\n",
       "      <td>W</td>\n",
       "    </tr>\n",
       "    <tr>\n",
       "      <th>1</th>\n",
       "      <td>L</td>\n",
       "      <td>L</td>\n",
       "    </tr>\n",
       "    <tr>\n",
       "      <th>2</th>\n",
       "      <td>W</td>\n",
       "      <td>W</td>\n",
       "    </tr>\n",
       "    <tr>\n",
       "      <th>3</th>\n",
       "      <td>L</td>\n",
       "      <td>L</td>\n",
       "    </tr>\n",
       "    <tr>\n",
       "      <th>4</th>\n",
       "      <td>L</td>\n",
       "      <td>L</td>\n",
       "    </tr>\n",
       "    <tr>\n",
       "      <th>5</th>\n",
       "      <td>L</td>\n",
       "      <td>L</td>\n",
       "    </tr>\n",
       "    <tr>\n",
       "      <th>6</th>\n",
       "      <td>L</td>\n",
       "      <td>L</td>\n",
       "    </tr>\n",
       "    <tr>\n",
       "      <th>7</th>\n",
       "      <td>W</td>\n",
       "      <td>W</td>\n",
       "    </tr>\n",
       "    <tr>\n",
       "      <th>8</th>\n",
       "      <td>L</td>\n",
       "      <td>L</td>\n",
       "    </tr>\n",
       "    <tr>\n",
       "      <th>9</th>\n",
       "      <td>L</td>\n",
       "      <td>L</td>\n",
       "    </tr>\n",
       "  </tbody>\n",
       "</table>\n",
       "</div>"
      ],
      "text/plain": [
       "  Real Result Predicted Result\n",
       "0           W                W\n",
       "1           L                L\n",
       "2           W                W\n",
       "3           L                L\n",
       "4           L                L\n",
       "5           L                L\n",
       "6           L                L\n",
       "7           W                W\n",
       "8           L                L\n",
       "9           L                L"
      ]
     },
     "execution_count": 7,
     "metadata": {},
     "output_type": "execute_result"
    }
   ],
   "source": [
    "decTreeModel = tree.DecisionTreeClassifier(max_depth=5)\n",
    "decTreeModel.fit(x_train, y_train)\n",
    "prediction_train = decTreeModel.predict(x_train)\n",
    "prediction_test = decTreeModel.predict(x_test)\n",
    "dTree_acc = accuracy_score(y_test, prediction_test)\n",
    "print(\"Decision Tree Accuracy: \", dTree_acc)\n",
    "pd.DataFrame({\"Real Result\":y_test, \"Predicted Result\":prediction_test}).reset_index(drop=True).head(10)"
   ]
  },
  {
   "cell_type": "markdown",
   "metadata": {},
   "source": [
    "### k-Nearest Neighbors Algorithm"
   ]
  },
  {
   "cell_type": "markdown",
   "metadata": {},
   "source": [
    "Finally, a k-NN (k-nearest neighbors) algorithm can be used for classification as well. k-NN attempts to classify a dataset into a number of discrete categories. It operates under the assumption that values nearest to a data point are similar to it. "
   ]
  },
  {
   "cell_type": "code",
   "execution_count": 8,
   "metadata": {},
   "outputs": [
    {
     "name": "stdout",
     "output_type": "stream",
     "text": [
      "k-NN Accuracy:  0.6428571428571429\n"
     ]
    },
    {
     "data": {
      "text/html": [
       "<div>\n",
       "<style scoped>\n",
       "    .dataframe tbody tr th:only-of-type {\n",
       "        vertical-align: middle;\n",
       "    }\n",
       "\n",
       "    .dataframe tbody tr th {\n",
       "        vertical-align: top;\n",
       "    }\n",
       "\n",
       "    .dataframe thead th {\n",
       "        text-align: right;\n",
       "    }\n",
       "</style>\n",
       "<table border=\"1\" class=\"dataframe\">\n",
       "  <thead>\n",
       "    <tr style=\"text-align: right;\">\n",
       "      <th></th>\n",
       "      <th>Real Result</th>\n",
       "      <th>Predicted Result</th>\n",
       "    </tr>\n",
       "  </thead>\n",
       "  <tbody>\n",
       "    <tr>\n",
       "      <th>0</th>\n",
       "      <td>W</td>\n",
       "      <td>W</td>\n",
       "    </tr>\n",
       "    <tr>\n",
       "      <th>1</th>\n",
       "      <td>L</td>\n",
       "      <td>L</td>\n",
       "    </tr>\n",
       "    <tr>\n",
       "      <th>2</th>\n",
       "      <td>W</td>\n",
       "      <td>L</td>\n",
       "    </tr>\n",
       "    <tr>\n",
       "      <th>3</th>\n",
       "      <td>L</td>\n",
       "      <td>L</td>\n",
       "    </tr>\n",
       "    <tr>\n",
       "      <th>4</th>\n",
       "      <td>L</td>\n",
       "      <td>L</td>\n",
       "    </tr>\n",
       "    <tr>\n",
       "      <th>5</th>\n",
       "      <td>L</td>\n",
       "      <td>L</td>\n",
       "    </tr>\n",
       "    <tr>\n",
       "      <th>6</th>\n",
       "      <td>L</td>\n",
       "      <td>L</td>\n",
       "    </tr>\n",
       "    <tr>\n",
       "      <th>7</th>\n",
       "      <td>W</td>\n",
       "      <td>L</td>\n",
       "    </tr>\n",
       "    <tr>\n",
       "      <th>8</th>\n",
       "      <td>L</td>\n",
       "      <td>W</td>\n",
       "    </tr>\n",
       "    <tr>\n",
       "      <th>9</th>\n",
       "      <td>L</td>\n",
       "      <td>L</td>\n",
       "    </tr>\n",
       "  </tbody>\n",
       "</table>\n",
       "</div>"
      ],
      "text/plain": [
       "  Real Result Predicted Result\n",
       "0           W                W\n",
       "1           L                L\n",
       "2           W                L\n",
       "3           L                L\n",
       "4           L                L\n",
       "5           L                L\n",
       "6           L                L\n",
       "7           W                L\n",
       "8           L                W\n",
       "9           L                L"
      ]
     },
     "execution_count": 8,
     "metadata": {},
     "output_type": "execute_result"
    }
   ],
   "source": [
    "knnModel = KNeighborsClassifier()\n",
    "knnModel.fit(x_train, y_train)\n",
    "prediction_train = knnModel.predict(x_train)\n",
    "prediction_test = knnModel.predict(x_test)\n",
    "knn_acc = accuracy_score(y_test, prediction_test)\n",
    "print(\"k-NN Accuracy: \", knn_acc)\n",
    "pd.DataFrame({\"Real Result\":y_test, \"Predicted Result\":prediction_test}).reset_index(drop=True).head(10)"
   ]
  },
  {
   "cell_type": "markdown",
   "metadata": {},
   "source": [
    "Based on these resulting scores, we can conclude that the logistic regression model was the most accurate. However, we can take some steps to try and optimize the decision tree and k-NN models."
   ]
  },
  {
   "cell_type": "markdown",
   "metadata": {},
   "source": [
    "### Optimizing the Decision Tree Classifier"
   ]
  },
  {
   "cell_type": "markdown",
   "metadata": {},
   "source": [
    "Since the decision tree model relies on nodes at increasing depths to make decisions, this can lead to overfitting as the complexity increases. We started off with the default value of 5 (tree of max depth), but we can now test multiple trees of varying depths to try and find the optimal max depth for this dataset."
   ]
  },
  {
   "cell_type": "code",
   "execution_count": 9,
   "metadata": {},
   "outputs": [
    {
     "name": "stdout",
     "output_type": "stream",
     "text": [
      "Optimal Depth:  16\n",
      "Optimal Accuracy:  0.9387755102040817\n",
      "Original Accuracy: 0.8367346938775511\n"
     ]
    }
   ],
   "source": [
    "best_depth = 1 \n",
    "best_accuracy = 0 \n",
    "accuracy_list = []\n",
    "for k in range(1,101):\n",
    "    optimizedModel=tree.DecisionTreeClassifier(max_depth=k)\n",
    "    optimizedModel.fit(x_train, y_train)\n",
    "    optimizedPrediction = optimizedModel.predict(x_test)\n",
    "    test_accuracy = accuracy_score(y_test, optimizedPrediction)\n",
    "    accuracy_list.append(accuracy_score(optimizedPrediction, y_test))\n",
    "    if test_accuracy > best_accuracy:\n",
    "        best_accuracy = test_accuracy\n",
    "        best_depth = k\n",
    "print(\"Optimal Depth: \", best_depth)\n",
    "print(\"Optimal Accuracy: \", best_accuracy)\n",
    "print(\"Original Accuracy:\",dTree_acc)"
   ]
  },
  {
   "cell_type": "code",
   "execution_count": 10,
   "metadata": {},
   "outputs": [
    {
     "data": {
      "image/png": "[encoded data removed]",
      "text/plain": [
       "<Figure size 864x288 with 1 Axes>"
      ]
     },
     "metadata": {},
     "output_type": "display_data"
    }
   ],
   "source": [
    "plt.figure(figsize=(12,4))\n",
    "plt.plot(range(1,101), accuracy_list)\n",
    "plt.xticks(range(0,101,10),range(0,101,10))\n",
    "plt.xlabel(\"Max Depth\")\n",
    "plt.ylabel(\"Accuracy Score\")\n",
    "plt.grid()\n",
    "plt.show()"
   ]
  },
  {
   "cell_type": "markdown",
   "metadata": {},
   "source": [
    "Visualizing the accuracy at different depths, we can see that there was an increase in accuracy, meaning our optimized model was successful."
   ]
  },
  {
   "cell_type": "markdown",
   "metadata": {},
   "source": [
    "### Optimizing the k-NN Algorithm"
   ]
  },
  {
   "cell_type": "markdown",
   "metadata": {},
   "source": [
    "The k-Nearest Neighbors algorithm works by choosing a data point and drawing a circle centered around it. It then increases the radius of the circle until k neighbors are enclosed by the circle. These neighbors are the k-nearest neighbors, hence the name. k-NN is also susceptible to overfitting, as expanding the radius of the circle can end up capturing too much data and lead to the model computing a value that just resembles the average.\n",
    "\n",
    "Again, we can test different values of k and determine which k value gives the best accuracy."
   ]
  },
  {
   "cell_type": "code",
   "execution_count": 11,
   "metadata": {},
   "outputs": [
    {
     "name": "stdout",
     "output_type": "stream",
     "text": [
      "Optimal Depth:  99\n",
      "Optimal Accuracy:  0.7857142857142857\n",
      "Original Accuracy:  0.6428571428571429\n"
     ]
    }
   ],
   "source": [
    "best_k = 1 \n",
    "best_accuracy = 0 \n",
    "accuracy_list = []\n",
    "for k in range(1,101):\n",
    "    optimizedModel = KNeighborsClassifier(k)\n",
    "    optimizedModel.fit(x_train, y_train)\n",
    "    optimizedPrediction = optimizedModel.predict(x_test)\n",
    "    test_accuracy = accuracy_score(y_test, optimizedPrediction)\n",
    "    accuracy_list.append(accuracy_score(optimizedPrediction, y_test))\n",
    "    if test_accuracy > best_accuracy:\n",
    "        best_accuracy = test_accuracy\n",
    "        best_k = k\n",
    "print(\"Optimal Depth: \", best_k)\n",
    "print(\"Optimal Accuracy: \", best_accuracy)\n",
    "print(\"Original Accuracy: \",knn_acc)"
   ]
  },
  {
   "cell_type": "code",
   "execution_count": 12,
   "metadata": {},
   "outputs": [
    {
     "data": {
      "image/png": "[encoded data removed]",
      "text/plain": [
       "<Figure size 864x288 with 1 Axes>"
      ]
     },
     "metadata": {},
     "output_type": "display_data"
    }
   ],
   "source": [
    "plt.figure(figsize=(12,4))\n",
    "plt.plot(range(1,101), accuracy_list)\n",
    "plt.xticks(range(0,101,10),range(0,101,10))\n",
    "plt.xlabel(\"k\")\n",
    "plt.ylabel(\"Accuracy Score\")\n",
    "plt.grid()\n",
    "plt.show()"
   ]
  },
  {
   "cell_type": "markdown",
   "metadata": {},
   "source": [
    "Similarly, we can visualize the accuracies at different k values. We can see that our optimizizations to the model have shown an increase in accuracy as well."
   ]
  }
 ],
 "metadata": {
  "kernelspec": {
   "display_name": "Python 3",
   "language": "python",
   "name": "python3"
  },
  "language_info": {
   "codemirror_mode": {
    "name": "ipython",
    "version": 3
   },
   "file_extension": ".py",
   "mimetype": "text/x-python",
   "name": "python",
   "nbconvert_exporter": "python",
   "pygments_lexer": "ipython3",
   "version": "3.6.5"
  }
 },
 "nbformat": 4,
 "nbformat_minor": 2
}
